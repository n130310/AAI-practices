{
  "nbformat": 4,
  "nbformat_minor": 0,
  "metadata": {
    "colab": {
      "provenance": []
    },
    "kernelspec": {
      "name": "python3",
      "display_name": "Python 3"
    },
    "language_info": {
      "name": "python"
    }
  },
  "cells": [
    {
      "cell_type": "markdown",
      "source": [
        "\n",
        "\n",
        "---\n",
        "\n"
      ],
      "metadata": {
        "id": "tKNG_RzWxG6g"
      }
    },
    {
      "cell_type": "markdown",
      "source": [
        "# **Дисклеймер**\n",
        "\n",
        "В данной практике будет введен дополнительный критерий: чистота и читаемость кода, а также соблюдение правил описанных в начале практики"
      ],
      "metadata": {
        "id": "cFcrKfclKWh0"
      }
    },
    {
      "cell_type": "markdown",
      "source": [
        "\n",
        "\n",
        "---\n",
        "\n"
      ],
      "metadata": {
        "id": "0SnE87X1xDlV"
      }
    },
    {
      "cell_type": "code",
      "source": [
        "print('Насртдинова Вероника')"
      ],
      "metadata": {
        "colab": {
          "base_uri": "https://localhost:8080/"
        },
        "id": "LanuaRLv1H3h",
        "outputId": "2121b1f5-d371-4427-a17c-30f73f69b0c7"
      },
      "execution_count": null,
      "outputs": [
        {
          "output_type": "stream",
          "name": "stdout",
          "text": [
            "Насртдинова Вероника\n"
          ]
        }
      ]
    },
    {
      "cell_type": "markdown",
      "source": [
        "# Задание 1\n",
        "\n",
        "**Задача:**\n",
        "\n",
        "Напишите функцию очищающий список от дубликтов\n",
        "\n",
        "\n",
        "*Запрещено:*\n",
        "\n",
        "*   Использовать set() или готовые функции очищающие список от дубликатов\n",
        "\n",
        "Вввод:\n",
        "\n",
        "```\n",
        "apple banana apple 1 3 4 4 5\n",
        "```\n",
        "\n",
        "\n",
        "Вывод:\n",
        "\n",
        "```\n",
        "apple banana 1 3 4 5\n",
        "```\n",
        "\n"
      ],
      "metadata": {
        "id": "VxawR9NubT_F"
      }
    },
    {
      "cell_type": "code",
      "source": [
        "def cleaning (user_input:list):\n",
        "  result = [];\n",
        "\n",
        "  for word in user_input:\n",
        "    if word not in result:\n",
        "      result.append(word)\n",
        "\n",
        "  return ' '.join(result)\n",
        "\n",
        "\n",
        "print(cleaning(input().split(' ')))"
      ],
      "metadata": {
        "id": "ml5gnbPXbeju",
        "colab": {
          "base_uri": "https://localhost:8080/"
        },
        "outputId": "1108c8fa-c937-4405-e1ad-f308d5cf711a"
      },
      "execution_count": null,
      "outputs": [
        {
          "output_type": "stream",
          "name": "stdout",
          "text": [
            "apple banana apple 1 3 4 4 5\n",
            "apple banana 1 3 4 5\n"
          ]
        }
      ]
    },
    {
      "cell_type": "markdown",
      "source": [
        "# Задание 2\n",
        "\n",
        "**Задача:**\n",
        "\n",
        "Написать функцию для нахождения простых чисел в диапазоне\n",
        "\n",
        "Ввод:\n",
        "\n",
        "```\n",
        "10, 50\n",
        "```\n",
        "\n",
        "Вывод:\n",
        "\n",
        "```\n",
        "11, 13, 17, 19, 23, 29, 31, 37, 41, 43, 47\n",
        "```"
      ],
      "metadata": {
        "id": "y05x0eD0cVCC"
      }
    },
    {
      "cell_type": "code",
      "source": [
        "def prime_list (user_input):\n",
        "  user_input = user_input.split(' ');\n",
        "  firstnum = int(user_input[0]);\n",
        "  lastnum = int(user_input[1]);\n",
        "  result = [];\n",
        "  numbers = list(range(firstnum, lastnum));\n",
        "\n",
        "  for number in numbers:\n",
        "    if check_prime(number):\n",
        "        result.append(number)\n",
        "    else: continue\n",
        "\n",
        "  return ' '.join(map(str, result))\n",
        "\n",
        "\n",
        "def check_prime (number):\n",
        "  divider = 2;\n",
        "\n",
        "  while divider**2 <= number and number % divider != 0:\n",
        "    divider += 1\n",
        "\n",
        "  return divider**2 > number\n",
        "\n",
        "\n",
        "print(prime_list(input()))"
      ],
      "metadata": {
        "id": "XSMJnLgrc6Bf",
        "colab": {
          "base_uri": "https://localhost:8080/"
        },
        "outputId": "40410ee4-c853-4e48-ae1b-68f437c5c9c2"
      },
      "execution_count": null,
      "outputs": [
        {
          "output_type": "stream",
          "name": "stdout",
          "text": [
            "10 50\n",
            "11 13 17 19 23 29 31 37 41 43 47\n"
          ]
        }
      ]
    },
    {
      "cell_type": "markdown",
      "source": [
        "# Задание 3\n",
        "\n",
        "Напишите функцию для объединения двух списков (список ключей и список значении) в словарь\n",
        "\n",
        "*Запрещено:*\n",
        "\n",
        "*   Использования готовых функции для объединения списков (пример: zip() )\n",
        "\n",
        "Дано:\n",
        "\n",
        "```\n",
        "keys = ['a', 'b', 'c', 'e' ]\n",
        "values = [1, 2, 3, 4]\n",
        "```\n",
        "\n",
        "Вывод:\n",
        "```\n",
        "{'a': 1, 'b': 2, 'c': 3, 'e': 4}\n",
        "```\n",
        "\n",
        "\n"
      ],
      "metadata": {
        "id": "vYM0LyxxdElN"
      }
    },
    {
      "cell_type": "code",
      "source": [
        "def fuse_lists (keys, values: list):\n",
        "  new_dict = {};\n",
        "  check = True;\n",
        "\n",
        "  for i in range (0, len(keys)):\n",
        "    if len(values) >= len(keys): new_dict[keys[i]] = values[i]\n",
        "    else:\n",
        "      check = False\n",
        "      break\n",
        "\n",
        "  if check is True: return new_dict\n",
        "  else: return \"Out of range\"\n",
        "\n",
        "keys = ['a', 'b', 'c', 'e'];\n",
        "values = [1, 2, 3, 4];\n",
        "\n",
        "print(fuse_lists(keys, values))"
      ],
      "metadata": {
        "id": "CRvhHTjCdvjS",
        "colab": {
          "base_uri": "https://localhost:8080/"
        },
        "outputId": "4ef4d94d-43d0-4b98-b71b-3a0ee6da6ebe"
      },
      "execution_count": null,
      "outputs": [
        {
          "output_type": "stream",
          "name": "stdout",
          "text": [
            "{'a': 1, 'b': 2, 'c': 3, 'e': 4}\n"
          ]
        }
      ]
    },
    {
      "cell_type": "markdown",
      "source": [
        "# Задание 4\n",
        "\n",
        "Напишите функцию(ии) для подсчета статистических параметров:\n",
        "*   Сумму\n",
        "*   Среднее арифметическое\n",
        "*   Медиану\n",
        "*   Моду\n",
        "\n",
        "\n",
        "*Запрещено:*\n",
        "\n",
        "*   sum()\n",
        "*   sorted()\n",
        "*   и других функции предоставляющих готовое решение задания\n",
        "\n",
        "Дано:\n",
        "\n",
        "```\n",
        "numbers = [1, 2, 2, 3, 4, 5, 6, 7, 8 ,9 ,10]\n",
        "\n",
        "```\n",
        "\n",
        "Вывод:\n",
        "```\n",
        "{'mean': 5.181818181818182, 'median': 5, 'mode': 2, 'sum': 57}\n",
        "```\n"
      ],
      "metadata": {
        "id": "L_w8H8i-fQcP"
      }
    },
    {
      "cell_type": "code",
      "source": [
        "def summa (numbers:list):\n",
        "  result = 0;\n",
        "  for number in numbers:\n",
        "    result += int(number);\n",
        "  return result;\n",
        "\n",
        "\n",
        "def mean (numbers:list, summa):\n",
        "  count = 0;\n",
        "  for i in numbers:\n",
        "    count = count + 1;\n",
        "  return summa / count;\n",
        "\n",
        "\n",
        "def median (numbers:list):\n",
        "  numbers.sort()\n",
        "  length = len(numbers)\n",
        "  if length % 2 == 0:\n",
        "      index1 = length // 2\n",
        "      index2 =index - 1\n",
        "      median = (numbers[index1] + numbers[index2]) / 2\n",
        "  else:\n",
        "      index1 = (length + 1) // 2 - 1\n",
        "      median = numbers[index1]\n",
        "  return median\n",
        "\n",
        "def mode (numbers:list):\n",
        "  repeating = {}\n",
        "  for num in numbers:\n",
        "    if num in repeating:\n",
        "      repeating[num] += 1\n",
        "    else:\n",
        "      repeating[num] = 1\n",
        "\n",
        "  max_repeating = max(repeating.values())\n",
        "  modal_numbers = [num for num, freq in repeating.items() if freq == max_repeating]\n",
        "\n",
        "  if len(modal_numbers) > 1:\n",
        "      return modal_numbers\n",
        "  else:\n",
        "      return modal_numbers[0] if modal_numbers else None\n",
        "  return\n",
        "\n",
        "\n",
        "numbers = [1, 2, 2, 3, 4, 5, 6, 7, 8 ,9 ,10]\n",
        "print('mean:', mean(numbers, summa(numbers)), 'median:', median(numbers), 'mode:', mode(numbers), 'sum:', summa(numbers))"
      ],
      "metadata": {
        "id": "dW6jW_rjfuba",
        "colab": {
          "base_uri": "https://localhost:8080/"
        },
        "outputId": "bf132741-af2c-4998-eed0-e5f538106c88"
      },
      "execution_count": null,
      "outputs": [
        {
          "output_type": "stream",
          "name": "stdout",
          "text": [
            "mean: 5.181818181818182 median: 5 mode: 2 sum: 57\n"
          ]
        }
      ]
    },
    {
      "cell_type": "markdown",
      "source": [
        "# Задание 5\n",
        "\n",
        "На ввод поступает строка символов. Строка состоит из слов, которые отделены друг от друга пробелами. Необходимо вывести самое длинное слово и его порядковый номер.\n",
        "\n",
        "*Запрещено:*\n",
        "\n",
        "*   len()\n",
        "\n",
        "Дано:\n",
        "\n",
        "```\n",
        "Страдание и боль всегда обязательны для широкого сознания и глубокого сердца.\n",
        "\n",
        "```\n",
        "\n",
        "Вывод:\n",
        "```\n",
        "Самое длинное слово с номером 5: обязательны\n",
        "```"
      ],
      "metadata": {
        "id": "hZW0NZ7SgTcp"
      }
    },
    {
      "cell_type": "code",
      "source": [
        "def length_def (word):\n",
        "  size = 0;\n",
        "  for i in word:\n",
        "    size += 1;\n",
        "  return size\n",
        "\n",
        "words = input().split()\n",
        "\n",
        "searched_word = \"\"\n",
        "searched_index = 0\n",
        "\n",
        "for i, word in enumerate(words):\n",
        "    if length_def(word) > length_def(searched_word):\n",
        "        searched_word = word\n",
        "        searched_index = i + 1\n",
        "\n",
        "print('Самое длинное слово с номером', searched_index, ':', searched_word)"
      ],
      "metadata": {
        "id": "rC5DpHHLsDYp",
        "colab": {
          "base_uri": "https://localhost:8080/"
        },
        "outputId": "727d9935-2da5-4df6-e3d5-c9f797ebd673"
      },
      "execution_count": 17,
      "outputs": [
        {
          "output_type": "stream",
          "name": "stdout",
          "text": [
            "Страдание и боль всегда обязательны для широкого сознания и глубокого сердца.\n",
            "Самое длинное слово с номером 5 : обязательны\n"
          ]
        }
      ]
    },
    {
      "cell_type": "markdown",
      "source": [
        "# Задание 6\n",
        "\n",
        "Напишите программу, для управления оценками студентов, со следующими функциями:\n",
        "\n",
        "* Добавление информации о студенте и его оценках.\n",
        "* Подсчет среднего балла студента.\n",
        "* Получение списка всех студентов с их средними баллами.\n",
        "* Поиск студента по имени и вывод его оценок и среднего балла.\n",
        "\n",
        "\n",
        "\n"
      ],
      "metadata": {
        "id": "k5BzJW5ZeaQN"
      }
    },
    {
      "cell_type": "code",
      "source": [],
      "metadata": {
        "id": "cvhlltVbdyoL"
      },
      "execution_count": null,
      "outputs": []
    },
    {
      "cell_type": "markdown",
      "source": [
        "# Задание 7\n",
        "\n",
        "\n",
        "**Задача:**\n",
        "\n",
        "Создайте приложение-викторину с командной строкой, которое задает пользователям вопросы по различным темам и отслеживает их результаты.\n",
        "\n",
        "Ключевые особенности:\n",
        "\n",
        "*   Хранение данных о вопросах и ответах на них, а также баллов за каждый вопрос\n",
        "*   Реализуйте функцию для представления вопросов, принятия ответов пользователей и предоставления обратной связи о том, являются ли ответы правильными или неправильными.\n",
        "*  После завершения викторины отобразите общий балл пользователя из числа ответов на вопросы.\n",
        "*  Реализуйте функцию добавления нового вопроса\n",
        "*  Реализуйте функцию перемешивания вопросов, для отображения случайного вопроса\n"
      ],
      "metadata": {
        "id": "iQ8Z-7PYgu1_"
      }
    },
    {
      "cell_type": "code",
      "source": [],
      "metadata": {
        "id": "DhxyYwHwh2V4"
      },
      "execution_count": null,
      "outputs": []
    }
  ]
}
